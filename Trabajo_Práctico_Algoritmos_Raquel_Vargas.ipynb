{
  "nbformat": 4,
  "nbformat_minor": 0,
  "metadata": {
    "colab": {
      "provenance": [],
      "include_colab_link": true
    },
    "kernelspec": {
      "name": "python3",
      "display_name": "Python 3"
    }
  },
  "cells": [
    {
      "cell_type": "markdown",
      "metadata": {
        "id": "view-in-github",
        "colab_type": "text"
      },
      "source": [
        "<a href=\"https://colab.research.google.com/github/raquelvargas16/03MIAR---Algoritmos-de-Optimizacion---2024/blob/main/Trabajo_Pr%C3%A1ctico_Algoritmos_Raquel_Vargas.ipynb\" target=\"_parent\"><img src=\"https://colab.research.google.com/assets/colab-badge.svg\" alt=\"Open In Colab\"/></a>"
      ]
    },
    {
      "cell_type": "markdown",
      "metadata": {
        "id": "hVbXYX-RfPWh"
      },
      "source": [
        "# Algoritmos de optimización - Trabajo Práctico<br>\n",
        "Nombre y Apellidos: Raquel Vargas Vivanco  <br>\n",
        "Url: https://github.com/.../03MAIR---Algoritmos-de-Optimizacion---/tree/master/TrabajoPractico<br>\n",
        "Google Colab: https://colab.research.google.com/drive/1W4jpmvOd6q1Zw9R92LSEOLJWAA5G8KsB?usp=sharing <br>\n",
        "Problema:\n",
        ">3. Configuración de Tribunales\n",
        "\n",
        "**Descripción del problema:**\n",
        "\n",
        "Se precisa configurar tribunales de evaluación para un grupo de 15 alumnos que desean presentar su Trabajo de Fin de Master (TFM).\n",
        "\n",
        "Cada tribunal está compuesto por tres profesores, cada uno desempeñando uno de los siguientes roles: Presidente, Secretario, Vocal.\n",
        "\n",
        "Los profesores han indicado su disponibilidad horaria para participar en los tribunales de 15h a 21h durante la semana del 15 al 19 de abril:\n",
        "* **Número de profesores**: 10\n",
        "* **Número de tribunales**: 15\n",
        "* **Disponibilidad y roles**: https://docs.google.com/spreadsheets/d/1nGeFXiDXH7Cy-ed8oUdrDfAQxQOzJ_MmJ5fqOSY9o48/edit?usp=sharing\n",
        "  - 1 indica que el profesor tiene disponibilidad\n",
        "  - 0 en caso contrario\n",
        "\n",
        "* Hay 15 alumnos, por lo que se deben configurar 15 tribunales buscando la configuración más equilibrada posible en cuanto a la cantidad de tribunales asignados a cada profesor, es decir, evitando que un profesor tenga muchos tribunales o otros pocos.\n",
        "* Obviamente ningún profesor puede asistir a dos tribunales a la misma fecha/hora y no puede ser convocado a un tribunal al que no tiene disponibilidad.\n",
        "\n",
        "\n",
        "\n",
        "\n",
        "\n",
        "                                        "
      ]
    },
    {
      "cell_type": "code",
      "source": [
        "import numpy as np\n",
        "import itertools\n",
        "import pandas as pd"
      ],
      "metadata": {
        "id": "Pcbzs6mL20PQ"
      },
      "execution_count": 1,
      "outputs": []
    },
    {
      "cell_type": "code",
      "source": [
        "# Matriz de disponibilidad transpuesta\n",
        "disponibilidad = '''\n",
        "0,1,0,1,1,1,0,1,1,1;\n",
        "1,1,0,0,1,1,1,1,0,1;\n",
        "1,1,1,1,0,1,1,1,1,0;\n",
        "1,1,1,0,1,1,1,1,1,1;\n",
        "0,0,0,1,0,1,1,1,0,1;\n",
        "1,0,1,1,1,0,1,0,1,0;\n",
        "1,0,1,0,1,0,1,0,0,1;\n",
        "1,0,1,1,1,1,1,1,0,1;\n",
        "0,1,1,0,1,1,1,1,1,0;\n",
        "1,1,1,0,1,1,0,0,1,0;\n",
        "1,1,0,1,0,1,1,1,1,0;\n",
        "1,1,0,1,1,1,1,1,1,0;\n",
        "1,0,1,1,1,1,0,1,1,0;\n",
        "1,0,1,1,1,1,1,0,1,1;\n",
        "1,1,1,0,1,1,0,1,1,1;\n",
        "1,0,1,0,0,1,0,1,1,1;\n",
        "0,0,1,1,1,0,1,1,0,0;\n",
        "0,1,1,1,1,0,1,0,0,0;\n",
        "1,1,1,1,0,1,0,0,0,1;\n",
        "0,1,1,1,1,1,0,1,1,1;\n",
        "1,0,1,1,1,1,1,1,1,1;\n",
        "0,1,1,1,0,1,1,0,1,1;\n",
        "1,1,0,0,1,1,0,1,1,0;\n",
        "1,1,1,1,1,1,0,1,1,0;\n",
        "1,1,1,1,1,0,0,1,1,1;\n",
        "1,1,1,0,0,0,0,1,1,1;\n",
        "1,1,0,1,1,1,1,1,1,1;\n",
        "1,1,1,1,1,1,1,1,0,1;\n",
        "1,1,0,1,1,1,1,0,1,1;\n",
        "1,1,1,1,0,1,1,1,0,1;\n",
        "1,1,1,1,1,1,1,1,1,1;\n",
        "1,1,0,1,1,0,1,1,1,0;\n",
        "1,1,1,1,1,1,1,0,1,0;\n",
        "0,1,0,1,1,0,0,1,1,0;\n",
        "0,1,1,0,0,1,1,0,1,1\n",
        "'''\n",
        "# Roles: P, S, V\n",
        "roles = '''\n",
        "1,1,1;\n",
        "1,1,1;\n",
        "1,0,1;\n",
        "0,1,1;\n",
        "1,1,1;\n",
        "1,1,1;\n",
        "0,1,1;\n",
        "0,1,1;\n",
        "1,1,1;\n",
        "1,1,1\n",
        "'''\n",
        "matriz_disponibilidad = np.matrix(disponibilidad.replace(\",\", \" \"))\n",
        "matriz_roles = np.matrix(roles.replace(\",\", \" \"))"
      ],
      "metadata": {
        "id": "FQMrNcgv1lb0"
      },
      "execution_count": 2,
      "outputs": []
    },
    {
      "cell_type": "markdown",
      "source": [
        "#Modelo\n",
        "- ¿Como represento el espacio de soluciones?\n",
        "\n",
        "\n",
        "- ¿Cual es la función objetivo?\n",
        "\n",
        "\n",
        "- ¿Como implemento las restricciones?\n"
      ],
      "metadata": {
        "id": "Sbo9IqQtpaHZ"
      }
    },
    {
      "cell_type": "code",
      "metadata": {
        "id": "AiskKkzZfy4e"
      },
      "source": [
        "#Respuesta"
      ],
      "execution_count": 3,
      "outputs": []
    },
    {
      "cell_type": "markdown",
      "source": [
        "- ¿Como represento el espacio de soluciones?\n",
        "\n",
        "El espacio de soluciones se va a representar con un diccionario $T$ de tribunales. Cada tribunal $T_i$ contiene la siguiente información:\n",
        "$$ T_i = \\{horario: \\ i, \\ profesores: (0,...1,...1,...1,...0)\\}$$\n",
        "\n",
        "- ¿Cual es la función objetivo?\n",
        "\n",
        "La función objetivo es la suma de la cantidad de veces que aparece cada profesor en tribunales diferentes. Sea $n_j$ el conteo de tribunales distintos en los que aparece el profesor j, entonces se busca minimizar:\n",
        "$$min \\sum_{j=1}^{10} n_j$$\n",
        "\n",
        "- ¿Como implemento las restricciones?\n",
        "\n",
        "Se deben verificar 2 restricciones: disponibilidad y roles.\n",
        "\n",
        "Se va a escoger presidente, secretario y vocal siempre en ese orden. Sea $T_i(p_j, p_k, p_l) = (0,0,...,1,1,1,...,0)$ la conformación del tribunal con los profesores $p_j, p_k, p_l$ en el horario $i$.\n",
        "    \n",
        "* **(i) Restricción de disponibilidad**: Sea $D_i$ la fila $i$ de la matriz de disponibilidad. Entonces, el tribunal $T_i(p_j, p_k, p_l)$ satisface la disponibilidad de todos los profesores si:\n",
        "\n",
        "  $$T_i(p_j, p_k, p_l) * D_i = 3$$\n",
        "  $$ j, k, l \\in \\{1,2, ..., 10\\}$$\n",
        "  $$ i \\in \\{1,2,..., 35\\}$$\n",
        "\n",
        "* **(ii) Restricción de roles**: Sea $R_T = (r_{i,j})$ la sub-matriz correspondiente a los roles de los profesores $p_j, p_k, p_l$. Entonces, el tribunal es válido si:\n",
        "$$(1)\\sum_{i=1}^{3} = r_{i,1} > 0$$\n",
        "$$(2)\\sum_{i=1}^{3} = r_{i,2} > 1$$\n",
        "Estas restricciones aseguran que los roles de presidente y secretario estén cubiertos porque el rol de vocal siempre está cubierto."
      ],
      "metadata": {
        "id": "SDI-QDkWW9S7"
      }
    },
    {
      "cell_type": "markdown",
      "source": [
        "#Análisis\n",
        "- ¿Que complejidad tiene el problema?. Orden de complejidad y Contabilizar el espacio de soluciones"
      ],
      "metadata": {
        "id": "HZz52wOppp-U"
      }
    },
    {
      "cell_type": "code",
      "source": [
        "#Respuesta"
      ],
      "metadata": {
        "id": "CZ-5BmpspttV"
      },
      "execution_count": 4,
      "outputs": []
    },
    {
      "cell_type": "markdown",
      "source": [
        "**Contabilización del espacio de soluciones**\n",
        "\n",
        "Sea $n$ la cantidad de tribunales a conformar y $m$ los horarios (hora-día) disponibles. Notar que se puede llevar a cabo más de untribunal en el mismo horario porque se cuenta con una cantidad tres veces mayor de profesores en comparación con el número mínimo de profesores necesarios para formar un tribunal. Entonces el espacio de soluciones se puede contabilizar por medio de combinaciones con repetición:\n",
        "$$n=15$$\n",
        "$$m=35$$\n",
        "$$\\# soluciones = CR_{15}^{35} = \\frac{(35 + 15 - 1)!}{15!(35-1)!} > 1.5  \\ billones$$\n",
        "\n",
        "**Órden de complejidad**\n",
        "\n",
        "Considerando que el espacio de soluciones está compuesto de las combinaciones con repetición de los posibles horarios, entonces se puede concluir que el órden de complejidad de este problema es factorial.\n",
        "$$O(n) = n!$$"
      ],
      "metadata": {
        "id": "A4rzA3UXW2Gh"
      }
    },
    {
      "cell_type": "markdown",
      "source": [
        "#Diseño\n",
        "- ¿Que técnica utilizo? ¿Por qué?"
      ],
      "metadata": {
        "id": "ixEJUwH_pv7M"
      }
    },
    {
      "cell_type": "code",
      "source": [
        "#Respuesta"
      ],
      "metadata": {
        "id": "ZdKPjB9gp2BA"
      },
      "execution_count": 5,
      "outputs": []
    },
    {
      "cell_type": "markdown",
      "source": [
        "**¿Qué técnica utilizo?**\n",
        "\n",
        "Se utilizará un algoritmo voraz para resolver este problema.\n",
        "\n",
        "**¿Por qué?**\n",
        "\n",
        "1. Existe un conjunto de candidatos como solución que se pueden obtener a partir de la matriz de disponibilidad.\n",
        "2. Se puede desarrollar una función para determinar el mejor candidato, en la implementación del algoritmo, se utiliza el conteo de profesores en los tribunales seleccionados hasta una determinada iteración.\n",
        "3. Se puede desarrolar una función que comprueba si un subconjunto de candidatos es prometedor. En la implementación esta función se llama es_valido().\n"
      ],
      "metadata": {
        "id": "2SxeEBd2q8Tb"
      }
    },
    {
      "cell_type": "code",
      "source": [
        "# Implementación\n",
        "\n",
        "def es_valido(estado, matriz_roles):\n",
        "    roles = np.array(matriz_roles[estado.astype(bool)][0].sum(axis=0))[0]\n",
        "    if (roles[2] > 0) and (roles[1] > 1) and (estado.sum() == 3):\n",
        "        return True\n",
        "    else: return False\n"
      ],
      "metadata": {
        "id": "YMyBXFMWtx2n"
      },
      "execution_count": 7,
      "outputs": []
    },
    {
      "cell_type": "code",
      "source": [
        "def verificar_horarios(matriz_disponibilidad, horario):\n",
        "    disp_horario = np.array(matriz_disponibilidad[horario])[0]\n",
        "    if disp_horario.sum() > 2:\n",
        "        return horario\n",
        "    else:\n",
        "        horario += 1\n",
        "        return horario"
      ],
      "metadata": {
        "id": "6FCXERBt1oGD"
      },
      "execution_count": 9,
      "outputs": []
    },
    {
      "cell_type": "code",
      "source": [
        "def generar_tribunal(matriz_disponibilidad, horario, matriz_roles, excluir_profesor):\n",
        "    disponibilidad = np.array(matriz_disponibilidad[horario])[0]\n",
        "    prof = np.array(range(1,11)) * disponibilidad\n",
        "    prof_disp = prof[prof > 0] - 1\n",
        "    prof_disp = prof_disp.tolist()\n",
        "    combinaciones = list(itertools.combinations(prof_disp, 3))\n",
        "    if len(excluir_profesor) > 0:\n",
        "        mitad = len(combinaciones) // 2\n",
        "        combinaciones = combinaciones[mitad: len(combinaciones)]\n",
        "    for c in combinaciones:\n",
        "        estado = np.zeros(10)\n",
        "        estado[list(c)] = 1\n",
        "        if es_valido(estado, matriz_roles) == True:\n",
        "            break\n",
        "        return estado"
      ],
      "metadata": {
        "id": "Dy2Vgx2nPjE4"
      },
      "execution_count": 10,
      "outputs": []
    },
    {
      "cell_type": "code",
      "source": [
        "def construir_tribunales(n_tribunales = 15,\n",
        "                         matriz_disponibilidad = matriz_disponibilidad,\n",
        "                         matriz_roles = matriz_roles):\n",
        "    i = 0\n",
        "    horario = 0\n",
        "    matriz_estados = np.zeros((15,10))\n",
        "    soluciones = {}\n",
        "    excluir_profesor = []\n",
        "    while len(soluciones.keys()) < n_tribunales:\n",
        "        repetidos = matriz_estados.sum(axis=0)\n",
        "        if repetidos.max() > 1:\n",
        "            excluir_profesor = np.argwhere(repetidos == repetidos.max()).flatten().tolist()\n",
        "            excluir_profesor = excluir_profesor[0:2]\n",
        "        horario = verificar_horarios(matriz_disponibilidad=matriz_disponibilidad,\n",
        "                                     horario=horario)\n",
        "        estado = generar_tribunal(matriz_disponibilidad=matriz_disponibilidad,\n",
        "                                  horario=horario,\n",
        "                                  matriz_roles=matriz_roles,\n",
        "                                  excluir_profesor=excluir_profesor)\n",
        "        soluciones['Tribunal_' + str(i)] = horario\n",
        "        matriz_estados[i] = estado\n",
        "        matriz_disponibilidad[horario, estado.astype(bool)] = 0\n",
        "        i += 1\n",
        "    return soluciones, matriz_estados"
      ],
      "metadata": {
        "id": "V1taL-4HnZh9"
      },
      "execution_count": 11,
      "outputs": []
    },
    {
      "cell_type": "code",
      "source": [
        "soluciones, matriz_estados = construir_tribunales(15, matriz_disponibilidad, matriz_roles)"
      ],
      "metadata": {
        "id": "uFyV8JBm0GfN"
      },
      "execution_count": 12,
      "outputs": []
    },
    {
      "cell_type": "code",
      "source": [
        "print(matriz_estados)\n",
        "print(matriz_estados.sum(axis=0))\n",
        "print(matriz_estados.sum(axis=1))\n",
        "repetidos = matriz_estados.sum(axis=0)"
      ],
      "metadata": {
        "colab": {
          "base_uri": "https://localhost:8080/"
        },
        "id": "TwM9CAAU4mo1",
        "outputId": "f2bced50-0212-49c0-cd6c-54510b5c4995"
      },
      "execution_count": 13,
      "outputs": [
        {
          "output_type": "stream",
          "name": "stdout",
          "text": [
            "[[0. 1. 0. 1. 1. 0. 0. 0. 0. 0.]\n",
            " [0. 0. 0. 0. 0. 1. 0. 1. 1. 0.]\n",
            " [1. 1. 0. 0. 1. 0. 0. 0. 0. 0.]\n",
            " [0. 0. 0. 0. 0. 1. 0. 1. 0. 1.]\n",
            " [0. 1. 0. 1. 0. 0. 0. 1. 0. 0.]\n",
            " [1. 0. 0. 0. 0. 0. 1. 0. 1. 0.]\n",
            " [0. 1. 0. 0. 0. 1. 0. 0. 0. 1.]\n",
            " [0. 0. 1. 0. 1. 0. 1. 0. 0. 0.]\n",
            " [1. 0. 0. 0. 0. 0. 0. 1. 1. 0.]\n",
            " [0. 0. 0. 1. 0. 0. 0. 1. 0. 1.]\n",
            " [0. 0. 1. 1. 1. 0. 0. 0. 0. 0.]\n",
            " [1. 0. 0. 0. 0. 0. 1. 0. 1. 0.]\n",
            " [1. 0. 0. 0. 0. 0. 1. 0. 0. 1.]\n",
            " [0. 0. 1. 0. 1. 0. 0. 1. 0. 0.]\n",
            " [1. 0. 0. 0. 0. 0. 1. 0. 0. 1.]]\n",
            "[6. 4. 3. 4. 5. 3. 5. 6. 4. 5.]\n",
            "[3. 3. 3. 3. 3. 3. 3. 3. 3. 3. 3. 3. 3. 3. 3.]\n"
          ]
        }
      ]
    },
    {
      "cell_type": "code",
      "source": [
        "soluciones"
      ],
      "metadata": {
        "colab": {
          "base_uri": "https://localhost:8080/"
        },
        "id": "0nWkB0bR6vUw",
        "outputId": "65e08633-19cd-40d1-8f49-93224abf9fd6"
      },
      "execution_count": 14,
      "outputs": [
        {
          "output_type": "execute_result",
          "data": {
            "text/plain": [
              "{'Tribunal_0': 0,\n",
              " 'Tribunal_1': 0,\n",
              " 'Tribunal_2': 1,\n",
              " 'Tribunal_3': 1,\n",
              " 'Tribunal_4': 2,\n",
              " 'Tribunal_5': 2,\n",
              " 'Tribunal_6': 3,\n",
              " 'Tribunal_7': 3,\n",
              " 'Tribunal_8': 3,\n",
              " 'Tribunal_9': 4,\n",
              " 'Tribunal_10': 5,\n",
              " 'Tribunal_11': 5,\n",
              " 'Tribunal_12': 6,\n",
              " 'Tribunal_13': 7,\n",
              " 'Tribunal_14': 7}"
            ]
          },
          "metadata": {},
          "execution_count": 14
        }
      ]
    },
    {
      "cell_type": "code",
      "source": [
        "horario_dict = {}\n",
        "i = 0\n",
        "for fecha in range(15, 20):\n",
        "    for hora in range(15, 22):\n",
        "        horario_dict[i] = [fecha, hora]\n",
        "        i += 1"
      ],
      "metadata": {
        "id": "Cbz10mgO0S_8"
      },
      "execution_count": 15,
      "outputs": []
    },
    {
      "cell_type": "code",
      "source": [
        "profesores_dict = np.array(['RRD', 'QYV', 'LHL', 'HLC', 'MSB', 'PMQ', 'QWF', 'EBB', 'IOE', 'IOA'])"
      ],
      "metadata": {
        "id": "B5dtQbyc5IhJ"
      },
      "execution_count": 16,
      "outputs": []
    },
    {
      "cell_type": "code",
      "source": [
        "config_tribunales = []\n",
        "for i in range(15):\n",
        "    config_tribunales.append(list(profesores_dict[matriz_estados[i,:].astype(bool)]))\n",
        "config_tribunales"
      ],
      "metadata": {
        "colab": {
          "base_uri": "https://localhost:8080/"
        },
        "id": "94_OFAig6jef",
        "outputId": "1a859f5d-970e-4bf2-caab-cb6808921aba"
      },
      "execution_count": 17,
      "outputs": [
        {
          "output_type": "execute_result",
          "data": {
            "text/plain": [
              "[['QYV', 'HLC', 'MSB'],\n",
              " ['PMQ', 'EBB', 'IOE'],\n",
              " ['RRD', 'QYV', 'MSB'],\n",
              " ['PMQ', 'EBB', 'IOA'],\n",
              " ['QYV', 'HLC', 'EBB'],\n",
              " ['RRD', 'QWF', 'IOE'],\n",
              " ['QYV', 'PMQ', 'IOA'],\n",
              " ['LHL', 'MSB', 'QWF'],\n",
              " ['RRD', 'EBB', 'IOE'],\n",
              " ['HLC', 'EBB', 'IOA'],\n",
              " ['LHL', 'HLC', 'MSB'],\n",
              " ['RRD', 'QWF', 'IOE'],\n",
              " ['RRD', 'QWF', 'IOA'],\n",
              " ['LHL', 'MSB', 'EBB'],\n",
              " ['RRD', 'QWF', 'IOA']]"
            ]
          },
          "metadata": {},
          "execution_count": 17
        }
      ]
    },
    {
      "cell_type": "code",
      "source": [
        "df_resultados_horario = pd.DataFrame.from_dict(soluciones, orient='index')\n",
        "df_resultados_horario = pd.DataFrame(df_resultados_horario[0].map(horario_dict))\n",
        "df_resultados_horario.columns = ['Fecha_Hora']\n",
        "df_resultados_horario = df_resultados_horario.reset_index()"
      ],
      "metadata": {
        "id": "NQ3B3MP2B8mV"
      },
      "execution_count": 31,
      "outputs": []
    },
    {
      "cell_type": "code",
      "source": [
        "df_resultados_profesores = pd.DataFrame(data=config_tribunales, columns=['Presidente', 'Secretario', ''])\n",
        "df_resultados = pd.concat([df_resultados_horario, df_resultados_profesores], axis=1)\n",
        "df_resultados"
      ],
      "metadata": {
        "colab": {
          "base_uri": "https://localhost:8080/",
          "height": 519
        },
        "id": "z8Rsul5D_RsM",
        "outputId": "f5627a1d-386a-4662-db3a-c8aba23f250d"
      },
      "execution_count": 32,
      "outputs": [
        {
          "output_type": "execute_result",
          "data": {
            "text/plain": [
              "          index Fecha_Hora Presidente Secretario     \n",
              "0    Tribunal_0   [15, 15]        QYV        HLC  MSB\n",
              "1    Tribunal_1   [15, 15]        PMQ        EBB  IOE\n",
              "2    Tribunal_2   [15, 16]        RRD        QYV  MSB\n",
              "3    Tribunal_3   [15, 16]        PMQ        EBB  IOA\n",
              "4    Tribunal_4   [15, 17]        QYV        HLC  EBB\n",
              "5    Tribunal_5   [15, 17]        RRD        QWF  IOE\n",
              "6    Tribunal_6   [15, 18]        QYV        PMQ  IOA\n",
              "7    Tribunal_7   [15, 18]        LHL        MSB  QWF\n",
              "8    Tribunal_8   [15, 18]        RRD        EBB  IOE\n",
              "9    Tribunal_9   [15, 19]        HLC        EBB  IOA\n",
              "10  Tribunal_10   [15, 20]        LHL        HLC  MSB\n",
              "11  Tribunal_11   [15, 20]        RRD        QWF  IOE\n",
              "12  Tribunal_12   [15, 21]        RRD        QWF  IOA\n",
              "13  Tribunal_13   [16, 15]        LHL        MSB  EBB\n",
              "14  Tribunal_14   [16, 15]        RRD        QWF  IOA"
            ],
            "text/html": [
              "\n",
              "  <div id=\"df-62739e5a-5595-4915-b385-58a55b1cecea\" class=\"colab-df-container\">\n",
              "    <div>\n",
              "<style scoped>\n",
              "    .dataframe tbody tr th:only-of-type {\n",
              "        vertical-align: middle;\n",
              "    }\n",
              "\n",
              "    .dataframe tbody tr th {\n",
              "        vertical-align: top;\n",
              "    }\n",
              "\n",
              "    .dataframe thead th {\n",
              "        text-align: right;\n",
              "    }\n",
              "</style>\n",
              "<table border=\"1\" class=\"dataframe\">\n",
              "  <thead>\n",
              "    <tr style=\"text-align: right;\">\n",
              "      <th></th>\n",
              "      <th>index</th>\n",
              "      <th>Fecha_Hora</th>\n",
              "      <th>Presidente</th>\n",
              "      <th>Secretario</th>\n",
              "      <th></th>\n",
              "    </tr>\n",
              "  </thead>\n",
              "  <tbody>\n",
              "    <tr>\n",
              "      <th>0</th>\n",
              "      <td>Tribunal_0</td>\n",
              "      <td>[15, 15]</td>\n",
              "      <td>QYV</td>\n",
              "      <td>HLC</td>\n",
              "      <td>MSB</td>\n",
              "    </tr>\n",
              "    <tr>\n",
              "      <th>1</th>\n",
              "      <td>Tribunal_1</td>\n",
              "      <td>[15, 15]</td>\n",
              "      <td>PMQ</td>\n",
              "      <td>EBB</td>\n",
              "      <td>IOE</td>\n",
              "    </tr>\n",
              "    <tr>\n",
              "      <th>2</th>\n",
              "      <td>Tribunal_2</td>\n",
              "      <td>[15, 16]</td>\n",
              "      <td>RRD</td>\n",
              "      <td>QYV</td>\n",
              "      <td>MSB</td>\n",
              "    </tr>\n",
              "    <tr>\n",
              "      <th>3</th>\n",
              "      <td>Tribunal_3</td>\n",
              "      <td>[15, 16]</td>\n",
              "      <td>PMQ</td>\n",
              "      <td>EBB</td>\n",
              "      <td>IOA</td>\n",
              "    </tr>\n",
              "    <tr>\n",
              "      <th>4</th>\n",
              "      <td>Tribunal_4</td>\n",
              "      <td>[15, 17]</td>\n",
              "      <td>QYV</td>\n",
              "      <td>HLC</td>\n",
              "      <td>EBB</td>\n",
              "    </tr>\n",
              "    <tr>\n",
              "      <th>5</th>\n",
              "      <td>Tribunal_5</td>\n",
              "      <td>[15, 17]</td>\n",
              "      <td>RRD</td>\n",
              "      <td>QWF</td>\n",
              "      <td>IOE</td>\n",
              "    </tr>\n",
              "    <tr>\n",
              "      <th>6</th>\n",
              "      <td>Tribunal_6</td>\n",
              "      <td>[15, 18]</td>\n",
              "      <td>QYV</td>\n",
              "      <td>PMQ</td>\n",
              "      <td>IOA</td>\n",
              "    </tr>\n",
              "    <tr>\n",
              "      <th>7</th>\n",
              "      <td>Tribunal_7</td>\n",
              "      <td>[15, 18]</td>\n",
              "      <td>LHL</td>\n",
              "      <td>MSB</td>\n",
              "      <td>QWF</td>\n",
              "    </tr>\n",
              "    <tr>\n",
              "      <th>8</th>\n",
              "      <td>Tribunal_8</td>\n",
              "      <td>[15, 18]</td>\n",
              "      <td>RRD</td>\n",
              "      <td>EBB</td>\n",
              "      <td>IOE</td>\n",
              "    </tr>\n",
              "    <tr>\n",
              "      <th>9</th>\n",
              "      <td>Tribunal_9</td>\n",
              "      <td>[15, 19]</td>\n",
              "      <td>HLC</td>\n",
              "      <td>EBB</td>\n",
              "      <td>IOA</td>\n",
              "    </tr>\n",
              "    <tr>\n",
              "      <th>10</th>\n",
              "      <td>Tribunal_10</td>\n",
              "      <td>[15, 20]</td>\n",
              "      <td>LHL</td>\n",
              "      <td>HLC</td>\n",
              "      <td>MSB</td>\n",
              "    </tr>\n",
              "    <tr>\n",
              "      <th>11</th>\n",
              "      <td>Tribunal_11</td>\n",
              "      <td>[15, 20]</td>\n",
              "      <td>RRD</td>\n",
              "      <td>QWF</td>\n",
              "      <td>IOE</td>\n",
              "    </tr>\n",
              "    <tr>\n",
              "      <th>12</th>\n",
              "      <td>Tribunal_12</td>\n",
              "      <td>[15, 21]</td>\n",
              "      <td>RRD</td>\n",
              "      <td>QWF</td>\n",
              "      <td>IOA</td>\n",
              "    </tr>\n",
              "    <tr>\n",
              "      <th>13</th>\n",
              "      <td>Tribunal_13</td>\n",
              "      <td>[16, 15]</td>\n",
              "      <td>LHL</td>\n",
              "      <td>MSB</td>\n",
              "      <td>EBB</td>\n",
              "    </tr>\n",
              "    <tr>\n",
              "      <th>14</th>\n",
              "      <td>Tribunal_14</td>\n",
              "      <td>[16, 15]</td>\n",
              "      <td>RRD</td>\n",
              "      <td>QWF</td>\n",
              "      <td>IOA</td>\n",
              "    </tr>\n",
              "  </tbody>\n",
              "</table>\n",
              "</div>\n",
              "    <div class=\"colab-df-buttons\">\n",
              "\n",
              "  <div class=\"colab-df-container\">\n",
              "    <button class=\"colab-df-convert\" onclick=\"convertToInteractive('df-62739e5a-5595-4915-b385-58a55b1cecea')\"\n",
              "            title=\"Convert this dataframe to an interactive table.\"\n",
              "            style=\"display:none;\">\n",
              "\n",
              "  <svg xmlns=\"http://www.w3.org/2000/svg\" height=\"24px\" viewBox=\"0 -960 960 960\">\n",
              "    <path d=\"M120-120v-720h720v720H120Zm60-500h600v-160H180v160Zm220 220h160v-160H400v160Zm0 220h160v-160H400v160ZM180-400h160v-160H180v160Zm440 0h160v-160H620v160ZM180-180h160v-160H180v160Zm440 0h160v-160H620v160Z\"/>\n",
              "  </svg>\n",
              "    </button>\n",
              "\n",
              "  <style>\n",
              "    .colab-df-container {\n",
              "      display:flex;\n",
              "      gap: 12px;\n",
              "    }\n",
              "\n",
              "    .colab-df-convert {\n",
              "      background-color: #E8F0FE;\n",
              "      border: none;\n",
              "      border-radius: 50%;\n",
              "      cursor: pointer;\n",
              "      display: none;\n",
              "      fill: #1967D2;\n",
              "      height: 32px;\n",
              "      padding: 0 0 0 0;\n",
              "      width: 32px;\n",
              "    }\n",
              "\n",
              "    .colab-df-convert:hover {\n",
              "      background-color: #E2EBFA;\n",
              "      box-shadow: 0px 1px 2px rgba(60, 64, 67, 0.3), 0px 1px 3px 1px rgba(60, 64, 67, 0.15);\n",
              "      fill: #174EA6;\n",
              "    }\n",
              "\n",
              "    .colab-df-buttons div {\n",
              "      margin-bottom: 4px;\n",
              "    }\n",
              "\n",
              "    [theme=dark] .colab-df-convert {\n",
              "      background-color: #3B4455;\n",
              "      fill: #D2E3FC;\n",
              "    }\n",
              "\n",
              "    [theme=dark] .colab-df-convert:hover {\n",
              "      background-color: #434B5C;\n",
              "      box-shadow: 0px 1px 3px 1px rgba(0, 0, 0, 0.15);\n",
              "      filter: drop-shadow(0px 1px 2px rgba(0, 0, 0, 0.3));\n",
              "      fill: #FFFFFF;\n",
              "    }\n",
              "  </style>\n",
              "\n",
              "    <script>\n",
              "      const buttonEl =\n",
              "        document.querySelector('#df-62739e5a-5595-4915-b385-58a55b1cecea button.colab-df-convert');\n",
              "      buttonEl.style.display =\n",
              "        google.colab.kernel.accessAllowed ? 'block' : 'none';\n",
              "\n",
              "      async function convertToInteractive(key) {\n",
              "        const element = document.querySelector('#df-62739e5a-5595-4915-b385-58a55b1cecea');\n",
              "        const dataTable =\n",
              "          await google.colab.kernel.invokeFunction('convertToInteractive',\n",
              "                                                    [key], {});\n",
              "        if (!dataTable) return;\n",
              "\n",
              "        const docLinkHtml = 'Like what you see? Visit the ' +\n",
              "          '<a target=\"_blank\" href=https://colab.research.google.com/notebooks/data_table.ipynb>data table notebook</a>'\n",
              "          + ' to learn more about interactive tables.';\n",
              "        element.innerHTML = '';\n",
              "        dataTable['output_type'] = 'display_data';\n",
              "        await google.colab.output.renderOutput(dataTable, element);\n",
              "        const docLink = document.createElement('div');\n",
              "        docLink.innerHTML = docLinkHtml;\n",
              "        element.appendChild(docLink);\n",
              "      }\n",
              "    </script>\n",
              "  </div>\n",
              "\n",
              "\n",
              "<div id=\"df-5d73a742-b169-4c67-a12d-8b793befe25d\">\n",
              "  <button class=\"colab-df-quickchart\" onclick=\"quickchart('df-5d73a742-b169-4c67-a12d-8b793befe25d')\"\n",
              "            title=\"Suggest charts\"\n",
              "            style=\"display:none;\">\n",
              "\n",
              "<svg xmlns=\"http://www.w3.org/2000/svg\" height=\"24px\"viewBox=\"0 0 24 24\"\n",
              "     width=\"24px\">\n",
              "    <g>\n",
              "        <path d=\"M19 3H5c-1.1 0-2 .9-2 2v14c0 1.1.9 2 2 2h14c1.1 0 2-.9 2-2V5c0-1.1-.9-2-2-2zM9 17H7v-7h2v7zm4 0h-2V7h2v10zm4 0h-2v-4h2v4z\"/>\n",
              "    </g>\n",
              "</svg>\n",
              "  </button>\n",
              "\n",
              "<style>\n",
              "  .colab-df-quickchart {\n",
              "      --bg-color: #E8F0FE;\n",
              "      --fill-color: #1967D2;\n",
              "      --hover-bg-color: #E2EBFA;\n",
              "      --hover-fill-color: #174EA6;\n",
              "      --disabled-fill-color: #AAA;\n",
              "      --disabled-bg-color: #DDD;\n",
              "  }\n",
              "\n",
              "  [theme=dark] .colab-df-quickchart {\n",
              "      --bg-color: #3B4455;\n",
              "      --fill-color: #D2E3FC;\n",
              "      --hover-bg-color: #434B5C;\n",
              "      --hover-fill-color: #FFFFFF;\n",
              "      --disabled-bg-color: #3B4455;\n",
              "      --disabled-fill-color: #666;\n",
              "  }\n",
              "\n",
              "  .colab-df-quickchart {\n",
              "    background-color: var(--bg-color);\n",
              "    border: none;\n",
              "    border-radius: 50%;\n",
              "    cursor: pointer;\n",
              "    display: none;\n",
              "    fill: var(--fill-color);\n",
              "    height: 32px;\n",
              "    padding: 0;\n",
              "    width: 32px;\n",
              "  }\n",
              "\n",
              "  .colab-df-quickchart:hover {\n",
              "    background-color: var(--hover-bg-color);\n",
              "    box-shadow: 0 1px 2px rgba(60, 64, 67, 0.3), 0 1px 3px 1px rgba(60, 64, 67, 0.15);\n",
              "    fill: var(--button-hover-fill-color);\n",
              "  }\n",
              "\n",
              "  .colab-df-quickchart-complete:disabled,\n",
              "  .colab-df-quickchart-complete:disabled:hover {\n",
              "    background-color: var(--disabled-bg-color);\n",
              "    fill: var(--disabled-fill-color);\n",
              "    box-shadow: none;\n",
              "  }\n",
              "\n",
              "  .colab-df-spinner {\n",
              "    border: 2px solid var(--fill-color);\n",
              "    border-color: transparent;\n",
              "    border-bottom-color: var(--fill-color);\n",
              "    animation:\n",
              "      spin 1s steps(1) infinite;\n",
              "  }\n",
              "\n",
              "  @keyframes spin {\n",
              "    0% {\n",
              "      border-color: transparent;\n",
              "      border-bottom-color: var(--fill-color);\n",
              "      border-left-color: var(--fill-color);\n",
              "    }\n",
              "    20% {\n",
              "      border-color: transparent;\n",
              "      border-left-color: var(--fill-color);\n",
              "      border-top-color: var(--fill-color);\n",
              "    }\n",
              "    30% {\n",
              "      border-color: transparent;\n",
              "      border-left-color: var(--fill-color);\n",
              "      border-top-color: var(--fill-color);\n",
              "      border-right-color: var(--fill-color);\n",
              "    }\n",
              "    40% {\n",
              "      border-color: transparent;\n",
              "      border-right-color: var(--fill-color);\n",
              "      border-top-color: var(--fill-color);\n",
              "    }\n",
              "    60% {\n",
              "      border-color: transparent;\n",
              "      border-right-color: var(--fill-color);\n",
              "    }\n",
              "    80% {\n",
              "      border-color: transparent;\n",
              "      border-right-color: var(--fill-color);\n",
              "      border-bottom-color: var(--fill-color);\n",
              "    }\n",
              "    90% {\n",
              "      border-color: transparent;\n",
              "      border-bottom-color: var(--fill-color);\n",
              "    }\n",
              "  }\n",
              "</style>\n",
              "\n",
              "  <script>\n",
              "    async function quickchart(key) {\n",
              "      const quickchartButtonEl =\n",
              "        document.querySelector('#' + key + ' button');\n",
              "      quickchartButtonEl.disabled = true;  // To prevent multiple clicks.\n",
              "      quickchartButtonEl.classList.add('colab-df-spinner');\n",
              "      try {\n",
              "        const charts = await google.colab.kernel.invokeFunction(\n",
              "            'suggestCharts', [key], {});\n",
              "      } catch (error) {\n",
              "        console.error('Error during call to suggestCharts:', error);\n",
              "      }\n",
              "      quickchartButtonEl.classList.remove('colab-df-spinner');\n",
              "      quickchartButtonEl.classList.add('colab-df-quickchart-complete');\n",
              "    }\n",
              "    (() => {\n",
              "      let quickchartButtonEl =\n",
              "        document.querySelector('#df-5d73a742-b169-4c67-a12d-8b793befe25d button');\n",
              "      quickchartButtonEl.style.display =\n",
              "        google.colab.kernel.accessAllowed ? 'block' : 'none';\n",
              "    })();\n",
              "  </script>\n",
              "</div>\n",
              "\n",
              "  <div id=\"id_473c7044-da70-484c-975a-59d2812a96a0\">\n",
              "    <style>\n",
              "      .colab-df-generate {\n",
              "        background-color: #E8F0FE;\n",
              "        border: none;\n",
              "        border-radius: 50%;\n",
              "        cursor: pointer;\n",
              "        display: none;\n",
              "        fill: #1967D2;\n",
              "        height: 32px;\n",
              "        padding: 0 0 0 0;\n",
              "        width: 32px;\n",
              "      }\n",
              "\n",
              "      .colab-df-generate:hover {\n",
              "        background-color: #E2EBFA;\n",
              "        box-shadow: 0px 1px 2px rgba(60, 64, 67, 0.3), 0px 1px 3px 1px rgba(60, 64, 67, 0.15);\n",
              "        fill: #174EA6;\n",
              "      }\n",
              "\n",
              "      [theme=dark] .colab-df-generate {\n",
              "        background-color: #3B4455;\n",
              "        fill: #D2E3FC;\n",
              "      }\n",
              "\n",
              "      [theme=dark] .colab-df-generate:hover {\n",
              "        background-color: #434B5C;\n",
              "        box-shadow: 0px 1px 3px 1px rgba(0, 0, 0, 0.15);\n",
              "        filter: drop-shadow(0px 1px 2px rgba(0, 0, 0, 0.3));\n",
              "        fill: #FFFFFF;\n",
              "      }\n",
              "    </style>\n",
              "    <button class=\"colab-df-generate\" onclick=\"generateWithVariable('df_resultados')\"\n",
              "            title=\"Generate code using this dataframe.\"\n",
              "            style=\"display:none;\">\n",
              "\n",
              "  <svg xmlns=\"http://www.w3.org/2000/svg\" height=\"24px\"viewBox=\"0 0 24 24\"\n",
              "       width=\"24px\">\n",
              "    <path d=\"M7,19H8.4L18.45,9,17,7.55,7,17.6ZM5,21V16.75L18.45,3.32a2,2,0,0,1,2.83,0l1.4,1.43a1.91,1.91,0,0,1,.58,1.4,1.91,1.91,0,0,1-.58,1.4L9.25,21ZM18.45,9,17,7.55Zm-12,3A5.31,5.31,0,0,0,4.9,8.1,5.31,5.31,0,0,0,1,6.5,5.31,5.31,0,0,0,4.9,4.9,5.31,5.31,0,0,0,6.5,1,5.31,5.31,0,0,0,8.1,4.9,5.31,5.31,0,0,0,12,6.5,5.46,5.46,0,0,0,6.5,12Z\"/>\n",
              "  </svg>\n",
              "    </button>\n",
              "    <script>\n",
              "      (() => {\n",
              "      const buttonEl =\n",
              "        document.querySelector('#id_473c7044-da70-484c-975a-59d2812a96a0 button.colab-df-generate');\n",
              "      buttonEl.style.display =\n",
              "        google.colab.kernel.accessAllowed ? 'block' : 'none';\n",
              "\n",
              "      buttonEl.onclick = () => {\n",
              "        google.colab.notebook.generateWithVariable('df_resultados');\n",
              "      }\n",
              "      })();\n",
              "    </script>\n",
              "  </div>\n",
              "\n",
              "    </div>\n",
              "  </div>\n"
            ],
            "application/vnd.google.colaboratory.intrinsic+json": {
              "type": "dataframe",
              "variable_name": "df_resultados",
              "summary": "{\n  \"name\": \"df_resultados\",\n  \"rows\": 15,\n  \"fields\": [\n    {\n      \"column\": \"index\",\n      \"properties\": {\n        \"dtype\": \"string\",\n        \"num_unique_values\": 15,\n        \"samples\": [\n          \"Tribunal_9\",\n          \"Tribunal_11\",\n          \"Tribunal_0\"\n        ],\n        \"semantic_type\": \"\",\n        \"description\": \"\"\n      }\n    },\n    {\n      \"column\": \"Fecha_Hora\",\n      \"properties\": {\n        \"dtype\": \"object\",\n        \"semantic_type\": \"\",\n        \"description\": \"\"\n      }\n    },\n    {\n      \"column\": \"Presidente\",\n      \"properties\": {\n        \"dtype\": \"category\",\n        \"num_unique_values\": 5,\n        \"samples\": [\n          \"PMQ\",\n          \"HLC\",\n          \"RRD\"\n        ],\n        \"semantic_type\": \"\",\n        \"description\": \"\"\n      }\n    },\n    {\n      \"column\": \"Secretario\",\n      \"properties\": {\n        \"dtype\": \"category\",\n        \"num_unique_values\": 6,\n        \"samples\": [\n          \"HLC\",\n          \"EBB\",\n          \"MSB\"\n        ],\n        \"semantic_type\": \"\",\n        \"description\": \"\"\n      }\n    },\n    {\n      \"column\": \"\",\n      \"properties\": {\n        \"dtype\": \"category\",\n        \"num_unique_values\": 5,\n        \"samples\": [\n          \"IOE\",\n          \"QWF\",\n          \"IOA\"\n        ],\n        \"semantic_type\": \"\",\n        \"description\": \"\"\n      }\n    }\n  ]\n}"
            }
          },
          "metadata": {},
          "execution_count": 32
        }
      ]
    }
  ]
}