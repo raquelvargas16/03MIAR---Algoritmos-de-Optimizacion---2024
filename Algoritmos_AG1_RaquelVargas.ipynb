{
  "nbformat": 4,
  "nbformat_minor": 0,
  "metadata": {
    "colab": {
      "provenance": [],
      "include_colab_link": true
    },
    "kernelspec": {
      "name": "python3",
      "display_name": "Python 3"
    },
    "language_info": {
      "name": "python"
    }
  },
  "cells": [
    {
      "cell_type": "markdown",
      "metadata": {
        "id": "view-in-github",
        "colab_type": "text"
      },
      "source": [
        "<a href=\"https://colab.research.google.com/github/raquelvargas16/03MIAR---Algoritmos-de-Optimizacion---2024/blob/develop/Algoritmos_AG1_RaquelVargas.ipynb\" target=\"_parent\"><img src=\"https://colab.research.google.com/assets/colab-badge.svg\" alt=\"Open In Colab\"/></a>"
      ]
    },
    {
      "cell_type": "markdown",
      "metadata": {
        "id": "GG2D6vLdYwwy"
      },
      "source": [
        "Actividad Guiada 1 de Algoritmos de Optimizacion\n",
        "\n",
        "Nombre: Raquel Esthela Vargas Vivanco\n",
        "\n",
        "Link en Drive: https://colab.research.google.com/drive/1-x014WHCGT0bNwLlpHFPplYY8jwdkJyC?usp=sharing\n",
        "\n",
        "Link en Github: https://github.com/raquelvargas16/03MIAR---Algoritmos-de-Optimizacion---2024.git"
      ]
    },
    {
      "cell_type": "code",
      "source": [
        "from google.colab import drive\n",
        "drive.mount('/content/drive')"
      ],
      "metadata": {
        "colab": {
          "base_uri": "https://localhost:8080/"
        },
        "id": "vZZSTS07Xa79",
        "outputId": "c39d92c8-1c33-4eac-d3f3-e6e77a2d9078"
      },
      "execution_count": null,
      "outputs": [
        {
          "output_type": "stream",
          "name": "stdout",
          "text": [
            "Mounted at /content/drive\n"
          ]
        }
      ]
    },
    {
      "cell_type": "code",
      "metadata": {
        "id": "rTiqLuX2ZKuL",
        "outputId": "93c35a55-22c1-4851-d8e5-75e40b39763b",
        "colab": {
          "base_uri": "https://localhost:8080/"
        }
      },
      "source": [
        "#Torres de Hanoi - Divide y venceras\n",
        "################################################################################\n",
        "\n",
        "\n",
        "################################################################\n",
        "def Torres_Hanoi(N, desde, hasta):\n",
        "  #N - Nº de fichas\n",
        "  #desde - torre inicial\n",
        "  #hasta - torre fina\n",
        "  if N==1 :\n",
        "    print(\"Lleva la ficha desde \" + str(desde) + \" hasta \" + str(hasta))\n",
        "\n",
        "  else:\n",
        "    Torres_Hanoi(N-1, desde, 6-desde-hasta)\n",
        "    print(\"Lleva la ficha desde \" + str(desde) + \" hasta \" + str(hasta))\n",
        "    Torres_Hanoi(N-1, 6-desde-hasta,  hasta)\n",
        "\n",
        "Torres_Hanoi(5, 1, 3)\n",
        "################################################################"
      ],
      "execution_count": null,
      "outputs": [
        {
          "output_type": "stream",
          "name": "stdout",
          "text": [
            "Lleva la ficha desde 1 hasta 3\n",
            "Lleva la ficha desde 1 hasta 2\n",
            "Lleva la ficha desde 3 hasta 2\n",
            "Lleva la ficha desde 1 hasta 3\n",
            "Lleva la ficha desde 2 hasta 1\n",
            "Lleva la ficha desde 2 hasta 3\n",
            "Lleva la ficha desde 1 hasta 3\n",
            "Lleva la ficha desde 1 hasta 2\n",
            "Lleva la ficha desde 3 hasta 2\n",
            "Lleva la ficha desde 3 hasta 1\n",
            "Lleva la ficha desde 2 hasta 1\n",
            "Lleva la ficha desde 3 hasta 2\n",
            "Lleva la ficha desde 1 hasta 3\n",
            "Lleva la ficha desde 1 hasta 2\n",
            "Lleva la ficha desde 3 hasta 2\n",
            "Lleva la ficha desde 1 hasta 3\n",
            "Lleva la ficha desde 2 hasta 1\n",
            "Lleva la ficha desde 2 hasta 3\n",
            "Lleva la ficha desde 1 hasta 3\n",
            "Lleva la ficha desde 2 hasta 1\n",
            "Lleva la ficha desde 3 hasta 2\n",
            "Lleva la ficha desde 3 hasta 1\n",
            "Lleva la ficha desde 2 hasta 1\n",
            "Lleva la ficha desde 2 hasta 3\n",
            "Lleva la ficha desde 1 hasta 3\n",
            "Lleva la ficha desde 1 hasta 2\n",
            "Lleva la ficha desde 3 hasta 2\n",
            "Lleva la ficha desde 1 hasta 3\n",
            "Lleva la ficha desde 2 hasta 1\n",
            "Lleva la ficha desde 2 hasta 3\n",
            "Lleva la ficha desde 1 hasta 3\n"
          ]
        }
      ]
    },
    {
      "cell_type": "code",
      "metadata": {
        "id": "YwBudj2hYoMR",
        "colab": {
          "base_uri": "https://localhost:8080/"
        },
        "outputId": "a934b4e7-9b85-49cf-c4be-2ebe3c3f9a00"
      },
      "source": [
        "#Cambio de monedas - Técnica voraz\n",
        "################################################################################\n",
        "SISTEMA = [11, 5 ,  1  ]\n",
        "################################################################\n",
        "def cambio_monedas(CANTIDAD,SISTEMA):\n",
        "#....\n",
        "  SOLUCION = [0]*len(SISTEMA)\n",
        "  ValorAcumulado = 0\n",
        "\n",
        "  for i,valor in enumerate(SISTEMA):\n",
        "    monedas = (CANTIDAD-ValorAcumulado)//valor\n",
        "    SOLUCION[i] = monedas\n",
        "    ValorAcumulado = ValorAcumulado + monedas*valor\n",
        "\n",
        "    if CANTIDAD == ValorAcumulado:\n",
        "      return SOLUCION\n",
        "\n",
        "  print(\"No es posible encontrar solucion\")\n",
        "\n",
        "cambio_monedas(15,SISTEMA)\n",
        "\n",
        "\n",
        "################################################################"
      ],
      "execution_count": null,
      "outputs": [
        {
          "output_type": "execute_result",
          "data": {
            "text/plain": [
              "[1, 0, 4]"
            ]
          },
          "metadata": {},
          "execution_count": 3
        }
      ]
    },
    {
      "cell_type": "code",
      "metadata": {
        "id": "H4Iwt2XRZTFr",
        "colab": {
          "base_uri": "https://localhost:8080/"
        },
        "outputId": "698ba199-6884-42e2-e1ae-bc2fd7efa38d"
      },
      "source": [
        "#N Reinas - Vuelta Atrás()\n",
        "################################################################################\n",
        "\n",
        "#Verifica que en la solución parcial no hay amenzas entre reinas\n",
        "################################################################\n",
        "def es_prometedora(SOLUCION,etapa):\n",
        "################################################################\n",
        "  #print(SOLUCION)\n",
        "  #Si la solución tiene dos valores iguales no es valida => Dos reinas en la misma fila\n",
        "  for i in range(etapa+1):\n",
        "    #print(\"El valor \" + str(SOLUCION[i]) + \" está \" +  str(SOLUCION.count(SOLUCION[i])) + \" veces\")\n",
        "    if SOLUCION.count(SOLUCION[i]) > 1:\n",
        "      return False\n",
        "\n",
        "    #Verifica las diagonales\n",
        "    for j in range(i+1, etapa +1 ):\n",
        "      #print(\"Comprobando diagonal de \" + str(i) + \" y \" + str(j))\n",
        "      if abs(i-j) == abs(SOLUCION[i]-SOLUCION[j]) : return False\n",
        "  return True\n",
        "\n",
        "#Traduce la solución al tablero\n",
        "################################################################\n",
        "def escribe_solucion(S):\n",
        "################################################################\n",
        "  n = len(S)\n",
        "  for x in range(n):\n",
        "    print(\"\")\n",
        "    for i in range(n):\n",
        "      if S[i] == x+1:\n",
        "        print(\" X \" , end=\"\")\n",
        "      else:\n",
        "        print(\" - \", end=\"\")\n",
        "\n",
        "\n",
        "\n",
        "#Proceso principal de N-Reinas\n",
        "################################################################\n",
        "def reinas(N, solucion=[],etapa=0):\n",
        "################################################################\n",
        "### ....\n",
        "  if len(solucion) == 0:         # [0,0,0...]\n",
        "    solucion = [0 for i in range(N) ]\n",
        "\n",
        "  for i in range(1, N+1):\n",
        "    solucion[etapa] = i\n",
        "    if es_prometedora(solucion, etapa):\n",
        "      if etapa == N-1:\n",
        "        print(solucion)\n",
        "      else:\n",
        "        reinas(N, solucion, etapa+1)\n",
        "    else:\n",
        "      None\n",
        "\n",
        "  solucion[etapa] = 0\n",
        "\n",
        "reinas(8,solucion=[],etapa=0)"
      ],
      "execution_count": null,
      "outputs": [
        {
          "output_type": "stream",
          "name": "stdout",
          "text": [
            "[1, 5, 8, 6, 3, 7, 2, 4]\n",
            "[1, 6, 8, 3, 7, 4, 2, 5]\n",
            "[1, 7, 4, 6, 8, 2, 5, 3]\n",
            "[1, 7, 5, 8, 2, 4, 6, 3]\n",
            "[2, 4, 6, 8, 3, 1, 7, 5]\n",
            "[2, 5, 7, 1, 3, 8, 6, 4]\n",
            "[2, 5, 7, 4, 1, 8, 6, 3]\n",
            "[2, 6, 1, 7, 4, 8, 3, 5]\n",
            "[2, 6, 8, 3, 1, 4, 7, 5]\n",
            "[2, 7, 3, 6, 8, 5, 1, 4]\n",
            "[2, 7, 5, 8, 1, 4, 6, 3]\n",
            "[2, 8, 6, 1, 3, 5, 7, 4]\n",
            "[3, 1, 7, 5, 8, 2, 4, 6]\n",
            "[3, 5, 2, 8, 1, 7, 4, 6]\n",
            "[3, 5, 2, 8, 6, 4, 7, 1]\n",
            "[3, 5, 7, 1, 4, 2, 8, 6]\n",
            "[3, 5, 8, 4, 1, 7, 2, 6]\n",
            "[3, 6, 2, 5, 8, 1, 7, 4]\n",
            "[3, 6, 2, 7, 1, 4, 8, 5]\n",
            "[3, 6, 2, 7, 5, 1, 8, 4]\n",
            "[3, 6, 4, 1, 8, 5, 7, 2]\n",
            "[3, 6, 4, 2, 8, 5, 7, 1]\n",
            "[3, 6, 8, 1, 4, 7, 5, 2]\n",
            "[3, 6, 8, 1, 5, 7, 2, 4]\n",
            "[3, 6, 8, 2, 4, 1, 7, 5]\n",
            "[3, 7, 2, 8, 5, 1, 4, 6]\n",
            "[3, 7, 2, 8, 6, 4, 1, 5]\n",
            "[3, 8, 4, 7, 1, 6, 2, 5]\n",
            "[4, 1, 5, 8, 2, 7, 3, 6]\n",
            "[4, 1, 5, 8, 6, 3, 7, 2]\n",
            "[4, 2, 5, 8, 6, 1, 3, 7]\n",
            "[4, 2, 7, 3, 6, 8, 1, 5]\n",
            "[4, 2, 7, 3, 6, 8, 5, 1]\n",
            "[4, 2, 7, 5, 1, 8, 6, 3]\n",
            "[4, 2, 8, 5, 7, 1, 3, 6]\n",
            "[4, 2, 8, 6, 1, 3, 5, 7]\n",
            "[4, 6, 1, 5, 2, 8, 3, 7]\n",
            "[4, 6, 8, 2, 7, 1, 3, 5]\n",
            "[4, 6, 8, 3, 1, 7, 5, 2]\n",
            "[4, 7, 1, 8, 5, 2, 6, 3]\n",
            "[4, 7, 3, 8, 2, 5, 1, 6]\n",
            "[4, 7, 5, 2, 6, 1, 3, 8]\n",
            "[4, 7, 5, 3, 1, 6, 8, 2]\n",
            "[4, 8, 1, 3, 6, 2, 7, 5]\n",
            "[4, 8, 1, 5, 7, 2, 6, 3]\n",
            "[4, 8, 5, 3, 1, 7, 2, 6]\n",
            "[5, 1, 4, 6, 8, 2, 7, 3]\n",
            "[5, 1, 8, 4, 2, 7, 3, 6]\n",
            "[5, 1, 8, 6, 3, 7, 2, 4]\n",
            "[5, 2, 4, 6, 8, 3, 1, 7]\n",
            "[5, 2, 4, 7, 3, 8, 6, 1]\n",
            "[5, 2, 6, 1, 7, 4, 8, 3]\n",
            "[5, 2, 8, 1, 4, 7, 3, 6]\n",
            "[5, 3, 1, 6, 8, 2, 4, 7]\n",
            "[5, 3, 1, 7, 2, 8, 6, 4]\n",
            "[5, 3, 8, 4, 7, 1, 6, 2]\n",
            "[5, 7, 1, 3, 8, 6, 4, 2]\n",
            "[5, 7, 1, 4, 2, 8, 6, 3]\n",
            "[5, 7, 2, 4, 8, 1, 3, 6]\n",
            "[5, 7, 2, 6, 3, 1, 4, 8]\n",
            "[5, 7, 2, 6, 3, 1, 8, 4]\n",
            "[5, 7, 4, 1, 3, 8, 6, 2]\n",
            "[5, 8, 4, 1, 3, 6, 2, 7]\n",
            "[5, 8, 4, 1, 7, 2, 6, 3]\n",
            "[6, 1, 5, 2, 8, 3, 7, 4]\n",
            "[6, 2, 7, 1, 3, 5, 8, 4]\n",
            "[6, 2, 7, 1, 4, 8, 5, 3]\n",
            "[6, 3, 1, 7, 5, 8, 2, 4]\n",
            "[6, 3, 1, 8, 4, 2, 7, 5]\n",
            "[6, 3, 1, 8, 5, 2, 4, 7]\n",
            "[6, 3, 5, 7, 1, 4, 2, 8]\n",
            "[6, 3, 5, 8, 1, 4, 2, 7]\n",
            "[6, 3, 7, 2, 4, 8, 1, 5]\n",
            "[6, 3, 7, 2, 8, 5, 1, 4]\n",
            "[6, 3, 7, 4, 1, 8, 2, 5]\n",
            "[6, 4, 1, 5, 8, 2, 7, 3]\n",
            "[6, 4, 2, 8, 5, 7, 1, 3]\n",
            "[6, 4, 7, 1, 3, 5, 2, 8]\n",
            "[6, 4, 7, 1, 8, 2, 5, 3]\n",
            "[6, 8, 2, 4, 1, 7, 5, 3]\n",
            "[7, 1, 3, 8, 6, 4, 2, 5]\n",
            "[7, 2, 4, 1, 8, 5, 3, 6]\n",
            "[7, 2, 6, 3, 1, 4, 8, 5]\n",
            "[7, 3, 1, 6, 8, 5, 2, 4]\n",
            "[7, 3, 8, 2, 5, 1, 6, 4]\n",
            "[7, 4, 2, 5, 8, 1, 3, 6]\n",
            "[7, 4, 2, 8, 6, 1, 3, 5]\n",
            "[7, 5, 3, 1, 6, 8, 2, 4]\n",
            "[8, 2, 4, 1, 7, 5, 3, 6]\n",
            "[8, 2, 5, 3, 1, 7, 4, 6]\n",
            "[8, 3, 1, 6, 2, 5, 7, 4]\n",
            "[8, 4, 1, 3, 6, 2, 7, 5]\n"
          ]
        }
      ]
    },
    {
      "cell_type": "code",
      "metadata": {
        "id": "eTZclKH9QV0R",
        "colab": {
          "base_uri": "https://localhost:8080/"
        },
        "outputId": "aebc60db-33d3-4361-af88-5a5826e373db"
      },
      "source": [
        "escribe_solucion([1, 5, 8, 6, 3, 7, 2, 4])"
      ],
      "execution_count": null,
      "outputs": [
        {
          "output_type": "stream",
          "name": "stdout",
          "text": [
            "\n",
            " X  -  -  -  -  -  -  - \n",
            " -  -  -  -  -  -  X  - \n",
            " -  -  -  -  X  -  -  - \n",
            " -  -  -  -  -  -  -  X \n",
            " -  X  -  -  -  -  -  - \n",
            " -  -  -  X  -  -  -  - \n",
            " -  -  -  -  -  X  -  - \n",
            " -  -  X  -  -  -  -  - "
          ]
        }
      ]
    },
    {
      "cell_type": "code",
      "metadata": {
        "id": "TocxR55dQWq5",
        "outputId": "af94842b-532b-49b7-c00c-374b22961df5",
        "colab": {
          "base_uri": "https://localhost:8080/",
          "height": 380
        }
      },
      "source": [
        "#Viaje por el rio - Programación dinámica\n",
        "################################################################################\n",
        "\n",
        "TARIFAS = [\n",
        "[0,5,4,3,999,999,999],\n",
        "[999,0,999,2,3,999,11],\n",
        "[999,999, 0,1,999,4,10],\n",
        "[999,999,999, 0,5,6,9],\n",
        "[999,999, 999,999,0,999,4],\n",
        "[999,999, 999,999,999,0,3],\n",
        "[999,999,999,999,999,999,0]\n",
        "]\n",
        "\n",
        "#999 se puede sustituir por float(\"inf\")\n",
        "\n",
        "\n",
        "#Calculo de la matriz de PRECIOS y RUTAS\n",
        "################################################################\n",
        "def Precios(TARIFAS):\n",
        "################################################################\n",
        "  #Total de Nodos\n",
        "  N = len(TARIFAS[0])\n",
        "\n",
        "  #Inicialización de la tabla de precios\n",
        "  PRECIOS = [ [9999]*N for i in [9999]*N]\n",
        "  RUTA = [ [\"\"]*N for i in [\"\"]*N]\n",
        "\n",
        "  for i in range(0,N-1):\n",
        "    RUTA[i][i] = i             #Para ir de i a i se \"pasa por i\"\n",
        "    PRECIOS[i][i] = 0          #Para ir de i a i se se paga 0\n",
        "    for j in range(i+1, N):\n",
        "      MIN = TARIFAS[i][j]\n",
        "      RUTA[i][j] = i\n",
        "\n",
        "      for k in range(i, j):\n",
        "        if PRECIOS[i][k] + TARIFAS[k][j] < MIN:\n",
        "            MIN = min(MIN, PRECIOS[i][k] + TARIFAS[k][j] )\n",
        "            RUTA[i][j] = k          #Anota que para ir de i a j hay que pasar por k\n",
        "        PRECIOS[i][j] = MIN\n",
        "\n",
        "  return PRECIOS,RUTA\n",
        "################################################################\n",
        "\n",
        "PRECIOS,RUTA = Precios(TARIFAS)\n",
        "#print(PRECIOS[0][6])\n",
        "\n",
        "print(\"PRECIOS\")\n",
        "for i in range(len(TARIFAS)):\n",
        "  print(PRECIOS[i])\n",
        "\n",
        "print(\"\\nRUTA\")\n",
        "for i in range(len(TARIFAS)):\n",
        "  print(RUTA[i])\n",
        "\n",
        "#Determinar la ruta con Recursividad\n",
        "def calcular_ruta(RUTA, desde, hasta):\n",
        "  if desde == hasta:\n",
        "    #print(\"Ir a :\" + str(desde))\n",
        "    return \"\"\n",
        "  else:\n",
        "    return str(calcular_ruta( RUTA, desde, RUTA[desde][hasta])) +  \\\n",
        "                ',' + \\\n",
        "                str(RUTA[desde][hasta] \\\n",
        "              )\n",
        "\n",
        "print(\"\\nLa ruta es:\")\n",
        "calcular_ruta(RUTA, 0,6)"
      ],
      "execution_count": null,
      "outputs": [
        {
          "output_type": "stream",
          "name": "stdout",
          "text": [
            "PRECIOS\n",
            "[0, 5, 4, 3, 8, 8, 11]\n",
            "[9999, 0, 999, 2, 3, 8, 7]\n",
            "[9999, 9999, 0, 1, 6, 4, 7]\n",
            "[9999, 9999, 9999, 0, 5, 6, 9]\n",
            "[9999, 9999, 9999, 9999, 0, 999, 4]\n",
            "[9999, 9999, 9999, 9999, 9999, 0, 3]\n",
            "[9999, 9999, 9999, 9999, 9999, 9999, 9999]\n",
            "\n",
            "RUTA\n",
            "[0, 0, 0, 0, 1, 2, 5]\n",
            "['', 1, 1, 1, 1, 3, 4]\n",
            "['', '', 2, 2, 3, 2, 5]\n",
            "['', '', '', 3, 3, 3, 3]\n",
            "['', '', '', '', 4, 4, 4]\n",
            "['', '', '', '', '', 5, 5]\n",
            "['', '', '', '', '', '', '']\n",
            "\n",
            "La ruta es:\n"
          ]
        },
        {
          "output_type": "execute_result",
          "data": {
            "text/plain": [
              "',0,2,5'"
            ],
            "application/vnd.google.colaboratory.intrinsic+json": {
              "type": "string"
            }
          },
          "metadata": {},
          "execution_count": 6
        }
      ]
    },
    {
      "cell_type": "markdown",
      "source": [
        "## Práctica Individual\n",
        "### Problema: Encontrar los puntos más cercanos.\n",
        "Dado un conjunto de puntos se trata de encontrar los dos puntos más cercanos.\n",
        "### Guía\n",
        "1. Suponer en 1D, una lista de números [3403, 4537, 9089, 9746, 7259,...]\n",
        "2. Primer intento: Fuerza bruta\n",
        "3. Calcular la complejidad. ¿Se puede mejorar?\n",
        "4. Segundo intento. Aplicar Divide y Vencerás\n",
        "5. Calcular la complejidad. ¿Se puede mejorar?\n",
        "6. Extender el algoritmo a 2D: [(1122, 6175), (135, 4076), (7296, 2741), ...,]\n",
        "7. Extender el algoritmo a 3D."
      ],
      "metadata": {
        "id": "VIW0qcD91kBl"
      }
    },
    {
      "cell_type": "code",
      "source": [
        "# 1. Generación de un vector con enteros aleatorios para hacer la prueba\n",
        "import numpy as np\n",
        "np.random.seed(0)\n",
        "vector = np.random.randint(low=10, high=50, size=30)\n",
        "vector"
      ],
      "metadata": {
        "colab": {
          "base_uri": "https://localhost:8080/"
        },
        "id": "CW64sSw41iXn",
        "outputId": "01fdec28-8586-4117-8d9d-42d3e1fc339a"
      },
      "execution_count": 1,
      "outputs": [
        {
          "output_type": "execute_result",
          "data": {
            "text/plain": [
              "array([10, 13, 13, 49, 19, 29, 31, 46, 33, 16, 34, 34, 22, 11, 48, 49, 33,\n",
              "       34, 27, 47, 35, 23, 18, 19, 30, 26, 15, 25, 10, 28])"
            ]
          },
          "metadata": {},
          "execution_count": 1
        }
      ]
    },
    {
      "cell_type": "code",
      "source": [
        "# 2. Algoritmo de fuerza bruta\n",
        "def encontrar_cercanos_fuerza_bruta(vec):\n",
        "    n = len(vec)\n",
        "    if n < 2: return\n",
        "    diff =  np.inf\n",
        "    result_pair = []\n",
        "    # Se calculan todas las distancias entre par de puntos\n",
        "    for i in range(n-1):\n",
        "        for j in range(i+1, n):\n",
        "            cons_diff = abs(vec[i] - vec[j])\n",
        "            if cons_diff < diff:\n",
        "                diff = cons_diff\n",
        "                result_pair = [vec[i], vec[j]]\n",
        "    return result_pair"
      ],
      "metadata": {
        "id": "QeErR_keJIDS"
      },
      "execution_count": 2,
      "outputs": []
    },
    {
      "cell_type": "code",
      "source": [
        "encontrar_cercanos_fuerza_bruta(vector)"
      ],
      "metadata": {
        "colab": {
          "base_uri": "https://localhost:8080/"
        },
        "id": "WnjHg2MUNT_-",
        "outputId": "c9e703c8-cae3-49a5-a446-1684ed9ab126"
      },
      "execution_count": 3,
      "outputs": [
        {
          "output_type": "execute_result",
          "data": {
            "text/plain": [
              "[10, 10]"
            ]
          },
          "metadata": {},
          "execution_count": 3
        }
      ]
    },
    {
      "cell_type": "code",
      "source": [
        "vector2 = [3403, 4537, 9089, 9746, 7259]\n",
        "encontrar_cercanos_fuerza_bruta(vector2)"
      ],
      "metadata": {
        "colab": {
          "base_uri": "https://localhost:8080/"
        },
        "id": "hhaRa5FyNaA5",
        "outputId": "03594172-1e54-42e1-8419-1afc817dc11e"
      },
      "execution_count": 4,
      "outputs": [
        {
          "output_type": "execute_result",
          "data": {
            "text/plain": [
              "[9089, 9746]"
            ]
          },
          "metadata": {},
          "execution_count": 4
        }
      ]
    },
    {
      "cell_type": "markdown",
      "source": [
        "### 3. Calcular la complejidad. ¿Se puede mejorar?\n",
        "El algoritmo de fuerza bruta tiene complejidad de $O(n) = (n-1)(n-1) = n^2$ por los dos lazos que recorren el vector.\n",
        "\n",
        "El algoritmo sí se puede mejorar utilizando la técnica de *divide y vencerás* porque es un problema parecido a un problema de ordenación."
      ],
      "metadata": {
        "id": "wbT2dg1tRw3D"
      }
    },
    {
      "cell_type": "code",
      "source": [
        "# 4. Segundo intento. Aplicar Divide y Vencerás\n",
        "\n",
        "def cal_dist_base_case_1D(vec):\n",
        "    min_dist = np.inf\n",
        "    n = len(vec)\n",
        "    closest_pair = []\n",
        "    for i in range(n-1):\n",
        "        for j in range(i+1, n):\n",
        "            d = abs(vec[i] - vec[j])\n",
        "            if d < min_dist:\n",
        "                min_dist = d\n",
        "                closest_pair = [vec[i], vec[j]]\n",
        "    return min_dist, closest_pair\n",
        "\n",
        "def closest_pair_divide_conquer_1D(vec):\n",
        "    n = len(vec)\n",
        "    if n <= 3:\n",
        "        return cal_dist_base_case_1D(vec)\n",
        "    middle = n // 2\n",
        "    left_part = vec[:middle]\n",
        "    right_part = vec[middle:]\n",
        "    left_min_dist, left_closest_pair = closest_pair_divide_conquer_1D(left_part)\n",
        "    right_min_dist, right_closest_pair = closest_pair_divide_conquer_1D(right_part)\n",
        "\n",
        "    min_d = min(left_min_dist, right_min_dist)\n",
        "    split_dist, closest_pair_in_split = split_closest_pair_1D(vec, min_d)\n",
        "\n",
        "    if closest_pair_in_split is not None:\n",
        "        return split_dist, closest_pair_in_split\n",
        "\n",
        "    if left_min_dist < right_min_dist:\n",
        "        return left_min_dist, left_closest_pair\n",
        "    else:\n",
        "        return right_min_dist, right_closest_pair\n",
        "\n",
        "def split_closest_pair_1D(vec, d):\n",
        "    n = len(vec)\n",
        "    mid = n // 2\n",
        "    best_pair = None\n",
        "    mid_p = vec[mid]\n",
        "    pot_split_pairs = [p for p in vec\n",
        "                             if mid_p - d <= p <= mid_p + d]\n",
        "    pot_split_pairs.sort()\n",
        "    m = len(pot_split_pairs)\n",
        "    for i in range(m):\n",
        "        for j in range(i+1, min(i + 7, m)):\n",
        "            new_dist = abs(pot_split_pairs[i] - pot_split_pairs[j])\n",
        "            if new_dist < d:\n",
        "                d = new_dist\n",
        "                best_pair = [pot_split_pairs[i], pot_split_pairs[j]]\n",
        "    return d, best_pair\n",
        "\n",
        "def closest_pair_1D(vec):\n",
        "    vec.sort()\n",
        "    return closest_pair_divide_conquer_1D(vec)"
      ],
      "metadata": {
        "id": "Y0wz9LXsRgia"
      },
      "execution_count": 5,
      "outputs": []
    },
    {
      "cell_type": "code",
      "source": [
        "distancia, puntos = closest_pair_1D(list(vector))\n",
        "print('Distancia minima: ', distancia)\n",
        "print('Puntos: ', puntos)"
      ],
      "metadata": {
        "colab": {
          "base_uri": "https://localhost:8080/"
        },
        "id": "beiFtHrVldqe",
        "outputId": "ec697060-e4b8-449b-ffac-58c0d0a4b4f0"
      },
      "execution_count": 6,
      "outputs": [
        {
          "output_type": "stream",
          "name": "stdout",
          "text": [
            "Distancia minima:  0\n",
            "Puntos:  [49, 49]\n"
          ]
        }
      ]
    },
    {
      "cell_type": "code",
      "source": [
        "print(vector2)\n",
        "distancia, puntos = closest_pair_1D(vector2)\n",
        "print('Distancia minima: ', distancia)\n",
        "print('Puntos: ', puntos)"
      ],
      "metadata": {
        "colab": {
          "base_uri": "https://localhost:8080/"
        },
        "id": "yCLc-km4RBAC",
        "outputId": "d55bc76e-76b6-449c-e9a8-e04c90fa5698"
      },
      "execution_count": 8,
      "outputs": [
        {
          "output_type": "stream",
          "name": "stdout",
          "text": [
            "[3403, 4537, 9089, 9746, 7259]\n",
            "Distancia minima:  657\n",
            "Puntos:  [9089, 9746]\n"
          ]
        }
      ]
    },
    {
      "cell_type": "code",
      "source": [
        "vector3 = [40, 29, 34, 24, 19, 44, 37, 6, 14]\n",
        "print(vector3)\n",
        "distancia, puntos = closest_pair_1D(vector3)\n",
        "print('Distancia minima: ', distancia)\n",
        "print('Puntos: ', puntos)"
      ],
      "metadata": {
        "colab": {
          "base_uri": "https://localhost:8080/"
        },
        "id": "O1ZI0ud0wBru",
        "outputId": "fe5daed3-dfe6-4807-8e41-61660bc41cff"
      },
      "execution_count": 9,
      "outputs": [
        {
          "output_type": "stream",
          "name": "stdout",
          "text": [
            "[40, 29, 34, 24, 19, 44, 37, 6, 14]\n",
            "Distancia minima:  3\n",
            "Puntos:  [37, 40]\n"
          ]
        }
      ]
    },
    {
      "cell_type": "markdown",
      "source": [
        "### 5. Calcular la complejidad. ¿Se puede mejorar?\n",
        "La complejidad del algoritmo utilizando la técnica de  *divide y vencerás* es de $O(n) = n(log(n))^2$ porque el algoritmo divide al arreglo de puntos en dos recursivamente y a cada uno se le aplica una ordenación que se hace en $O(n) = nlog(n)$ y luego se buscan los puntos más cercanos alrededor del punto medio en tiempo $O(n) = n$.\n",
        "\n",
        "**¿El algoritmo se puede mejorar?**\n",
        "En mi opinión el algoritmo ya es bastante eficiente y no se puede mejorar porque el método *sort* ya usa un híbrido de dos algoritmos de ordenación muy eficientes: merge sort e insersion sort.\n",
        "\n",
        "### 6. Extender el algoritmo a 2D"
      ],
      "metadata": {
        "id": "uC3w5JV2TR7U"
      }
    },
    {
      "cell_type": "code",
      "source": [
        "# Implementacion en dos dimensiones\n",
        "import math\n",
        "\n",
        "def brute_force_closest_pair(points):\n",
        "    min_distance = float('inf')\n",
        "    closest_pair = None\n",
        "\n",
        "    for i in range(len(points)):\n",
        "        for j in range(i+1, len(points)):\n",
        "            distance = math.dist(points[i], points[j])\n",
        "            if distance < min_distance:\n",
        "                min_distance = distance\n",
        "                closest_pair = (points[i], points[j])\n",
        "\n",
        "    return min_distance, closest_pair\n",
        "\n",
        "def closest_pair_recursive(points):\n",
        "    n = len(points)\n",
        "\n",
        "    if n <= 3:\n",
        "        return brute_force_closest_pair(points)\n",
        "\n",
        "    mid = n // 2\n",
        "    left_half = points[:mid]\n",
        "    right_half = points[mid:]\n",
        "\n",
        "    left_min_distance, left_closest_pair = closest_pair_recursive(left_half)\n",
        "    right_min_distance, right_closest_pair = closest_pair_recursive(right_half)\n",
        "\n",
        "    min_distance = min(left_min_distance, right_min_distance)\n",
        "    split_closest_pair = find_split_closest_pair(points, min_distance)\n",
        "\n",
        "    if split_closest_pair is not None:\n",
        "        return min_distance, split_closest_pair\n",
        "\n",
        "    if left_min_distance < right_min_distance:\n",
        "        return left_min_distance, left_closest_pair\n",
        "    else:\n",
        "        return right_min_distance, right_closest_pair\n",
        "\n",
        "def find_split_closest_pair(points, min_distance):\n",
        "    n = len(points)\n",
        "    mid = n // 2\n",
        "    mid_x = points[mid][0]\n",
        "\n",
        "    potential_split_pairs = [point for point in points\n",
        "                             if mid_x - min_distance <= point[0] <= mid_x + min_distance]\n",
        "\n",
        "    potential_split_pairs.sort(key=lambda x: x[1])\n",
        "\n",
        "    best_split_pair = None\n",
        "\n",
        "    for i in range(len(potential_split_pairs)):\n",
        "        for j in range(i + 1, min(i + 7, len(potential_split_pairs))):\n",
        "            distance = math.dist(potential_split_pairs[i], potential_split_pairs[j])\n",
        "            if distance < min_distance:\n",
        "                min_distance = distance\n",
        "                best_split_pair = (potential_split_pairs[i], potential_split_pairs[j])\n",
        "\n",
        "    return best_split_pair\n",
        "\n",
        "def closest_pair(points):\n",
        "    sorted_points = sorted(points, key=lambda x: x[0])\n",
        "    return closest_pair_recursive(sorted_points)\n"
      ],
      "metadata": {
        "id": "fwO_W_x5NXHi"
      },
      "execution_count": 19,
      "outputs": []
    },
    {
      "cell_type": "code",
      "source": [
        "points =  [(1122, 6175), (135, 4076), (7296, 2741),]\n",
        "min_distance, puntos = closest_pair(points)\n",
        "\n",
        "print(\"Puntos más cercanos:\", puntos)\n",
        "print(\"Mínima distancia:\", min_distance)"
      ],
      "metadata": {
        "colab": {
          "base_uri": "https://localhost:8080/"
        },
        "id": "cOuT9VCcY0ti",
        "outputId": "482b3c86-92b2-4a19-e3e1-120e7e967682"
      },
      "execution_count": 22,
      "outputs": [
        {
          "output_type": "stream",
          "name": "stdout",
          "text": [
            "Puntos más cercanos: ((135, 4076), (1122, 6175))\n",
            "Mínima distancia: 2319.4762339804215\n"
          ]
        }
      ]
    },
    {
      "cell_type": "code",
      "source": [
        "points = [(2, 3), (12, 30), (40, 50), (5, 1), (12, 10), (3, 4)]\n",
        "min_distance, puntos = closest_pair(points)\n",
        "\n",
        "print(\"Puntos más cercanos:\", puntos)\n",
        "print(\"Mínima distancia:\", min_distance)"
      ],
      "metadata": {
        "colab": {
          "base_uri": "https://localhost:8080/"
        },
        "id": "Zd3tl2XGNsaX",
        "outputId": "9d06f2c9-8588-4de0-b44d-b818e0987e7c"
      },
      "execution_count": 20,
      "outputs": [
        {
          "output_type": "stream",
          "name": "stdout",
          "text": [
            "Puntos más cercanos: ((2, 3), (3, 4))\n",
            "Mínima distancia: 1.4142135623730951\n"
          ]
        }
      ]
    },
    {
      "cell_type": "markdown",
      "source": [
        "### 7. Extender el algoritmo a 3D\n",
        "\n",
        "La implementación anterior ya permite generalizar el problema para n dimensiones"
      ],
      "metadata": {
        "id": "yCdsCZ5kZICz"
      }
    },
    {
      "cell_type": "code",
      "source": [
        "points2 = [(0, 5, 3), (1, 3, 1), (2, 5, 6), (3, 2, 0), (5, 7, 5)]\n",
        "min_distance, puntos = brute_force_closest_pair(points2)\n",
        "\n",
        "print(\"Puntos más cercanos:\", puntos)\n",
        "print(\"Mínima distancia:\", min_distance)"
      ],
      "metadata": {
        "colab": {
          "base_uri": "https://localhost:8080/"
        },
        "id": "3G5bH1ODZkF3",
        "outputId": "1918e9cb-c35a-4b48-bf47-78b80b61627b"
      },
      "execution_count": 23,
      "outputs": [
        {
          "output_type": "stream",
          "name": "stdout",
          "text": [
            "Puntos más cercanos: ((1, 3, 1), (3, 2, 0))\n",
            "Mínima distancia: 2.449489742783178\n"
          ]
        }
      ]
    },
    {
      "cell_type": "code",
      "source": [
        "# Example usage:\n",
        "min_distance, puntos = closest_pair(points2)\n",
        "\n",
        "print(\"Puntos más cercanos:\", puntos)\n",
        "print(\"Mínima distancia:\", min_distance)"
      ],
      "metadata": {
        "colab": {
          "base_uri": "https://localhost:8080/"
        },
        "id": "G6qIobOzRFBP",
        "outputId": "571d5b32-ba19-4bf9-de19-ad9702e17528"
      },
      "execution_count": 24,
      "outputs": [
        {
          "output_type": "stream",
          "name": "stdout",
          "text": [
            "Puntos más cercanos: ((3, 2, 0), (1, 3, 1))\n",
            "Mínima distancia: 3.0\n"
          ]
        }
      ]
    },
    {
      "cell_type": "code",
      "source": [],
      "metadata": {
        "id": "2ygHdSG3aKw8"
      },
      "execution_count": null,
      "outputs": []
    }
  ]
}